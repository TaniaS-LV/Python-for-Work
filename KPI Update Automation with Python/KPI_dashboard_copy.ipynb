{
 "cells": [
  {
   "cell_type": "code",
   "execution_count": 1,
   "id": "5f204303",
   "metadata": {},
   "outputs": [],
   "source": [
    "import pandas as pd\n",
    "from datetime import datetime, date"
   ]
  },
  {
   "cell_type": "code",
   "execution_count": 2,
   "id": "4604265b",
   "metadata": {},
   "outputs": [],
   "source": [
    "import time"
   ]
  },
  {
   "cell_type": "code",
   "execution_count": 2,
   "id": "ea5847e0",
   "metadata": {},
   "outputs": [],
   "source": [
    "import gspread"
   ]
  },
  {
   "cell_type": "code",
   "execution_count": 3,
   "id": "5fe93197",
   "metadata": {},
   "outputs": [],
   "source": [
    "gc = gspread.service_account('..secret.json') #Create access to spreadsheet"
   ]
  },
  {
   "cell_type": "code",
   "execution_count": 4,
   "id": "247afc75",
   "metadata": {},
   "outputs": [],
   "source": [
    "spreadsheet_file = gc.open('Data Dashboard')"
   ]
  },
  {
   "cell_type": "code",
   "execution_count": 5,
   "id": "9f01fc80",
   "metadata": {},
   "outputs": [],
   "source": [
    "sheet = spreadsheet_file.worksheet('Dashboard')"
   ]
  },
  {
   "cell_type": "code",
   "execution_count": 15,
   "id": "2166662e",
   "metadata": {},
   "outputs": [],
   "source": [
    "pd.options.mode.chained_assignment = None "
   ]
  },
  {
   "cell_type": "markdown",
   "id": "28172c7f",
   "metadata": {},
   "source": [
    "# 0. Data upload and cleaning "
   ]
  },
  {
   "cell_type": "code",
   "execution_count": 7,
   "id": "42a2127d",
   "metadata": {},
   "outputs": [],
   "source": [
    "from sqlalchemy import create_engine\n",
    "import pymysql\n",
    "\n",
    "sqlEngine = create_engine()\n",
    "dbConnection = sqlEngine.connect()\n",
    "df = pd.read_sql(\"select * from users\", dbConnection, parse_dates =['created_date'])"
   ]
  },
  {
   "cell_type": "code",
   "execution_count": 4,
   "id": "66d22028",
   "metadata": {},
   "outputs": [
    {
     "data": {
      "text/html": [
       "<div>\n",
       "<style scoped>\n",
       "    .dataframe tbody tr th:only-of-type {\n",
       "        vertical-align: middle;\n",
       "    }\n",
       "\n",
       "    .dataframe tbody tr th {\n",
       "        vertical-align: top;\n",
       "    }\n",
       "\n",
       "    .dataframe thead th {\n",
       "        text-align: right;\n",
       "    }\n",
       "</style>\n",
       "<table border=\"1\" class=\"dataframe\">\n",
       "  <thead>\n",
       "    <tr style=\"text-align: right;\">\n",
       "      <th></th>\n",
       "      <th>Acquisition Source / Medium</th>\n",
       "      <th>Acquisition Campaign</th>\n",
       "      <th>status</th>\n",
       "      <th>created_date</th>\n",
       "      <th>user_type</th>\n",
       "      <th>analytics_status</th>\n",
       "      <th>subs_created</th>\n",
       "      <th>subs_cancelled</th>\n",
       "    </tr>\n",
       "  </thead>\n",
       "  <tbody>\n",
       "    <tr>\n",
       "      <th>0</th>\n",
       "      <td>(direct)/(none)</td>\n",
       "      <td>(direct)</td>\n",
       "      <td>ACTIVE</td>\n",
       "      <td>2022-12-14</td>\n",
       "      <td>0</td>\n",
       "      <td>FREE_TRIAL</td>\n",
       "      <td>NaN</td>\n",
       "      <td>NaN</td>\n",
       "    </tr>\n",
       "    <tr>\n",
       "      <th>1</th>\n",
       "      <td>(direct)/(none)</td>\n",
       "      <td>(not set)</td>\n",
       "      <td>ACTIVE</td>\n",
       "      <td>2022-12-14</td>\n",
       "      <td>0</td>\n",
       "      <td>FREE_TRIAL</td>\n",
       "      <td>NaN</td>\n",
       "      <td>NaN</td>\n",
       "    </tr>\n",
       "    <tr>\n",
       "      <th>2</th>\n",
       "      <td>google/organic</td>\n",
       "      <td>(not set)</td>\n",
       "      <td>ACTIVE</td>\n",
       "      <td>2022-12-14</td>\n",
       "      <td>0</td>\n",
       "      <td>FREE_TRIAL</td>\n",
       "      <td>NaN</td>\n",
       "      <td>NaN</td>\n",
       "    </tr>\n",
       "    <tr>\n",
       "      <th>3</th>\n",
       "      <td>(direct)/(none)</td>\n",
       "      <td>(not set)</td>\n",
       "      <td>ACTIVE</td>\n",
       "      <td>2022-12-14</td>\n",
       "      <td>1</td>\n",
       "      <td>SECONDARY</td>\n",
       "      <td>NaN</td>\n",
       "      <td>NaN</td>\n",
       "    </tr>\n",
       "    <tr>\n",
       "      <th>4</th>\n",
       "      <td>(direct)/(none)</td>\n",
       "      <td>(not set)</td>\n",
       "      <td>PENDING_IMPORT</td>\n",
       "      <td>2022-12-14</td>\n",
       "      <td>0</td>\n",
       "      <td>PENDING_IMPORT</td>\n",
       "      <td>NaN</td>\n",
       "      <td>NaN</td>\n",
       "    </tr>\n",
       "  </tbody>\n",
       "</table>\n",
       "</div>"
      ],
      "text/plain": [
       "  Acquisition Source / Medium Acquisition Campaign          status  \\\n",
       "0             (direct)/(none)             (direct)          ACTIVE   \n",
       "1             (direct)/(none)            (not set)          ACTIVE   \n",
       "2              google/organic            (not set)          ACTIVE   \n",
       "3             (direct)/(none)            (not set)          ACTIVE   \n",
       "4             (direct)/(none)            (not set)  PENDING_IMPORT   \n",
       "\n",
       "  created_date  user_type analytics_status subs_created subs_cancelled  \n",
       "0   2022-12-14          0       FREE_TRIAL          NaN            NaN  \n",
       "1   2022-12-14          0       FREE_TRIAL          NaN            NaN  \n",
       "2   2022-12-14          0       FREE_TRIAL          NaN            NaN  \n",
       "3   2022-12-14          1        SECONDARY          NaN            NaN  \n",
       "4   2022-12-14          0   PENDING_IMPORT          NaN            NaN  "
      ]
     },
     "execution_count": 4,
     "metadata": {},
     "output_type": "execute_result"
    }
   ],
   "source": [
    "df.iloc[:, 2:].head()"
   ]
  },
  {
   "cell_type": "code",
   "execution_count": 8,
   "id": "cd921973",
   "metadata": {},
   "outputs": [],
   "source": [
    "df = df[df['user_type'] == 0] #Only primary users "
   ]
  },
  {
   "cell_type": "code",
   "execution_count": 9,
   "id": "b798416c",
   "metadata": {},
   "outputs": [],
   "source": [
    "def first_ten(string):\n",
    "    if isinstance(string, str):\n",
    "        sstring = string[:10]\n",
    "        sstring= pd.to_datetime(sstring)\n",
    "        return sstring"
   ]
  },
  {
   "cell_type": "code",
   "execution_count": 10,
   "id": "29616f4f",
   "metadata": {},
   "outputs": [],
   "source": [
    "#reshape subs_created to the YMD format with datetime \n",
    "df['subs_created'] = df['subs_created'].apply(first_ten)\n",
    "df['subs_cancelled'] = df['subs_cancelled'].apply(first_ten)"
   ]
  },
  {
   "cell_type": "markdown",
   "id": "6b242ba5",
   "metadata": {},
   "source": [
    "## 1. Data deduplication"
   ]
  },
  {
   "cell_type": "code",
   "execution_count": 23,
   "id": "6b34450e",
   "metadata": {},
   "outputs": [],
   "source": [
    "nan = len(df[df['client_uuid'].isnull()]) #NaN in client ID \n",
    "nan_cid_df  = df[df['client_uuid'].isnull()]\n",
    "nans_dupl_emails = len(nan_cid_df[nan_cid_df['frontend_email'].duplicated()])\n",
    "print(f'There are {nan} users without recorded IDs.')"
   ]
  },
  {
   "cell_type": "code",
   "execution_count": 24,
   "id": "7b096f21",
   "metadata": {},
   "outputs": [],
   "source": [
    "nnulls = df[df['client_uuid'].notnull()]\n",
    "nnuls_dupl = len(nnulls[nnulls['client_uuid'].duplicated()][['client_uuid']])\n",
    "df[df['client_uuid'].duplicated()][['client_uuid']].value_counts().head() #Counts by CID\n",
    "max_dupl_cid = df[df['client_uuid'].duplicated()][['client_uuid']].value_counts().head(1).item()\n",
    "dupl_cid = df[df['client_uuid'].duplicated()][['client_uuid']].nunique().item()\n",
    "print(f'Among rows with recorded ID, there are {dupl_cid} duplicated client IDs across {nnuls_dupl} rows, some of them occuring as many as {max_dupl_cid} times in the period.')"
   ]
  },
  {
   "cell_type": "code",
   "execution_count": 25,
   "id": "33c5b1a1",
   "metadata": {},
   "outputs": [],
   "source": [
    "#Dropping all rows with duplicated IDs, except for NaN values in cid \n",
    "data_deduplc = df[df['client_uuid'].isnull() | ~df[df['client_uuid'].notnull()].duplicated(subset='client_uuid',keep='first')]"
   ]
  },
  {
   "cell_type": "code",
   "execution_count": 27,
   "id": "c07f274e",
   "metadata": {},
   "outputs": [],
   "source": [
    "print(f'After CID deduplication and data cleaning, there are {len(data_deduplc)} unique primary users in the period.')"
   ]
  },
  {
   "cell_type": "markdown",
   "id": "a7f3b322",
   "metadata": {},
   "source": [
    "# 2. Defining dates "
   ]
  },
  {
   "cell_type": "code",
   "execution_count": 28,
   "id": "82e6f0c8",
   "metadata": {},
   "outputs": [],
   "source": [
    "#Finding last month\n",
    "import datetime\n",
    "\n",
    "today = datetime.date.today()\n",
    "first = today.replace(day=1)\n",
    "last_month = first - datetime.timedelta(days=1)\n",
    "last_month_year = int(last_month.strftime(\"%Y\"))\n",
    "last_month_month = int(last_month.strftime(\"%m\"))"
   ]
  },
  {
   "cell_type": "code",
   "execution_count": 29,
   "id": "bb487352",
   "metadata": {},
   "outputs": [],
   "source": [
    "#Finding all days of the last month \n",
    "from calendar import monthrange\n",
    "\n",
    "def get_datetime_range(year, month):\n",
    "    nb_days = monthrange(year, month)[1]\n",
    "    return [datetime.date(year, month, day) for day in range(1, nb_days+1)]\n",
    "\n",
    "date_list = get_datetime_range(last_month_year, last_month_month)  "
   ]
  },
  {
   "cell_type": "markdown",
   "id": "5ceab0b7",
   "metadata": {},
   "source": [
    "# 3. Last month overview"
   ]
  },
  {
   "cell_type": "code",
   "execution_count": 43,
   "id": "15a4c75e",
   "metadata": {},
   "outputs": [],
   "source": [
    "nond_reg = df[df['created_date'].isin(date_list)]\n",
    "#Last months registrations including all duplicates "
   ]
  },
  {
   "cell_type": "code",
   "execution_count": 46,
   "id": "beccdef5",
   "metadata": {},
   "outputs": [],
   "source": [
    "dedupl_reg = data_deduplc[data_deduplc['created_date'].isin(date_list)]\n",
    "#Removing all duplicate cIDs. "
   ]
  },
  {
   "cell_type": "code",
   "execution_count": 48,
   "id": "ef564950",
   "metadata": {},
   "outputs": [],
   "source": [
    "#By unique emails \n",
    "sql_currmonth = nond_reg.groupby(['frontend_email']).count().sort_values('Acquisition Source / Medium', ascending = False)"
   ]
  },
  {
   "cell_type": "code",
   "execution_count": 51,
   "id": "38ee5691",
   "metadata": {},
   "outputs": [],
   "source": [
    "#By analytics status\n",
    "nond_reg.drop_duplicates(subset='frontend_email',keep='first')['analytics_status'].value_counts(dropna = False)"
   ]
  },
  {
   "cell_type": "code",
   "execution_count": 52,
   "id": "403bf510",
   "metadata": {},
   "outputs": [],
   "source": [
    "#By status\n",
    "nond_reg.drop_duplicates(subset='frontend_email',keep='first')['status'].value_counts(dropna= False)"
   ]
  },
  {
   "cell_type": "code",
   "execution_count": 54,
   "id": "8fd86ae5",
   "metadata": {},
   "outputs": [],
   "source": [
    "nond_paid  = nond_reg [nond_reg['analytics_status'] =='PAID'] \n",
    "paid_currmonth = len(nond_paid.groupby('frontend_email').count()) \n",
    "\n",
    "nond_cancelled = nond_reg [nond_reg['analytics_status'] =='CANCELLED']\n",
    "cancelled_currmonth  = len(nond_cancelled.groupby('frontend_email').count())\n",
    " \n",
    "nond_audit = nond_reg [nond_reg['status'] =='AUDIT']\n",
    "audit_currmonth = len(nond_audit.groupby('frontend_email').count())\n",
    "\n",
    "nond_pending = nond_reg [nond_reg['analytics_status'] =='PENDING_IMPORT']\n",
    "pending_currmonth = len(nond_pending.groupby('frontend_email').count())\n",
    "\n",
    "nond_expired = nond_reg [nond_reg['analytics_status'] =='TRIAL_EXPIRED']\n",
    "expired_currmonth = len(nond_expired.groupby('frontend_email').count())\n",
    "\n",
    "vreg = len(sql_currmonth) - audit_currmonth\n",
    "\n",
    "print(f'Total registrations: {len(sql_currmonth)}')\n",
    "print(f'Total audit: {audit_currmonth}')\n",
    "print(f'Total registrations excluding audit: {vreg}')\n",
    "print(f'Total pending registrations: {pending_currmonth}')\n",
    "print(f'Total paid users from the current months cohort: {paid_currmonth}')\n",
    "print(f'Total cancelled users from the current months cohort: {cancelled_currmonth}')\n",
    "print(f'Total expired free trial: {expired_currmonth}')"
   ]
  },
  {
   "cell_type": "markdown",
   "id": "efdc8dcf",
   "metadata": {},
   "source": [
    "# 4. Updating KPI dashboard in Google Sheets"
   ]
  },
  {
   "cell_type": "code",
   "execution_count": 57,
   "id": "63f7b715",
   "metadata": {},
   "outputs": [],
   "source": [
    "#Get list of months \n",
    "months_list_str = pd.date_range('2015-05-01',last_month, freq='MS').strftime(\"%Y%m\").tolist()"
   ]
  },
  {
   "cell_type": "code",
   "execution_count": 58,
   "id": "3585188a",
   "metadata": {},
   "outputs": [],
   "source": [
    "months_list = pd.date_range('2015-06-01',today, freq='MS').tolist()"
   ]
  },
  {
   "cell_type": "code",
   "execution_count": 59,
   "id": "c549ada0",
   "metadata": {},
   "outputs": [],
   "source": [
    "index = ['all', 'audit', 'valid_reg', 'pending', 'paid', 'cancelled', 'active']\n",
    "result = {}"
   ]
  },
  {
   "cell_type": "code",
   "execution_count": 61,
   "id": "2ace1926",
   "metadata": {},
   "outputs": [],
   "source": [
    "#Updating data in cohorts and updating Google Sheets file \n",
    "for month in months_list:\n",
    "    last_month = month - datetime.timedelta(days=1)\n",
    "    last_month_year = int(last_month.strftime(\"%Y\"))\n",
    "    last_month_month = int(last_month.strftime(\"%m\"))\n",
    "    date_list = get_datetime_range(last_month_year, last_month_month)\n",
    "    \n",
    "    #Fetching all numbers grouped by email\n",
    "    nond_reg = df[df['created_date'].isin(date_list)]\n",
    "    sql_currmonth = len(nond_reg.groupby(['frontend_email']).count().sort_values('Acquisition Source / Medium', ascending = False))\n",
    "    nond_paid  = nond_reg [nond_reg['analytics_status'] =='PAID'] \n",
    "    paid_currmonth = len(nond_paid.groupby('frontend_email').count()) \n",
    "    nond_cancelled = nond_reg [nond_reg['analytics_status'] =='CANCELLED']\n",
    "    cancelled_currmonth  = len(nond_cancelled.groupby('frontend_email').count())\n",
    "    nond_audit = nond_reg [nond_reg['status'] =='AUDIT']\n",
    "    audit_currmonth = len(nond_audit.groupby('frontend_email').count())\n",
    "    nond_pending = nond_reg [nond_reg['analytics_status'] =='PENDING_IMPORT']\n",
    "    pending_currmonth = len(nond_pending.groupby('frontend_email').count())\n",
    "    nond_expired = nond_reg [nond_reg['analytics_status'] =='TRIAL_EXPIRED']\n",
    "    expired_currmonth = len(nond_expired.groupby('frontend_email').count())\n",
    "    vreg = sql_currmonth - audit_currmonth\n",
    "    \n",
    "    #Combining the results  \n",
    "    result[last_month] = [sql_currmonth,audit_currmonth, vreg, pending_currmonth, paid_currmonth, cancelled_currmonth, paid_currmonth+cancelled_currmonth]\n",
    "    resulting_file = pd.DataFrame(result, index = index)  \n",
    "    last_month_m = datetime.datetime.strftime(last_month, \"%B %Y\")\n",
    "    \n",
    "    #Writing to the file\n",
    "    \n",
    "    ## 1. Define col nr; if none is found return last_col + 1 \n",
    "    find_col_nr = sheet.find(last_month_m)\n",
    "    if find_col_nr == None:\n",
    "        col_nr = len(sheet.row_values(1))+1\n",
    "        sheet.update_cell(1, col_nr, last_month_m)\n",
    "    else:\n",
    "        col_nr = find_col_nr.col\n",
    "    \n",
    "    ##2. Write to 4 cells using the col nr and the row nr: audit, valid_reg, pending, paid, cancelled \n",
    "    sheet.update_cell(9, col_nr, vreg)\n",
    "    time.sleep(2) #Sleep used because of API quota limitations \n",
    "    sheet.update_cell(10, col_nr, pending_currmonth)\n",
    "    time.sleep(2)\n",
    "    sheet.update_cell(20, col_nr, paid_currmonth)\n",
    "    time.sleep(2)\n",
    "    sheet.update_cell(21, col_nr, cancelled_currmonth)\n",
    "    time.sleep(5)"
   ]
  }
 ],
 "metadata": {
  "kernelspec": {
   "display_name": "Python 3",
   "language": "python",
   "name": "python3"
  },
  "language_info": {
   "codemirror_mode": {
    "name": "ipython",
    "version": 3
   },
   "file_extension": ".py",
   "mimetype": "text/x-python",
   "name": "python",
   "nbconvert_exporter": "python",
   "pygments_lexer": "ipython3",
   "version": "3.8.8"
  }
 },
 "nbformat": 4,
 "nbformat_minor": 5
}
